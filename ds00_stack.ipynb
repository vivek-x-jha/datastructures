{
 "cells": [
  {
   "cell_type": "markdown",
   "metadata": {},
   "source": [
    "# [Stack Overview](https://www.wikiwand.com/en/Stack_(abstract_data_type))"
   ]
  },
  {
   "cell_type": "markdown",
   "metadata": {},
   "source": [
    "#### In computer science, a stack is an abstract data type that serves as a collection of elements, with two main principal operations:\n",
    "\n",
    "1. Push: adds an element to the collection\n",
    "2. Pop: removes the most recently added element that was not yet removed.\n",
    "\n",
    "The order in which elements come off a stack gives rise to its alternative name, LIFO (last in, first out). Additionally, a peek operation may give access to the top without modifying the stack. The name \"stack\" for this type of structure comes from the analogy to a set of physical items stacked on top of each other. This structure makes it easy to take an item off the top of the stack, while getting to an item deeper in the stack may require taking off multiple other items first.\n",
    "\n",
    "Considered as a linear data structure, or more abstractly a sequential collection, the push and pop operations occur only at one end of the structure, referred to as the top of the stack. This data structure makes it possible to implement a stack as a singly linked list and a pointer to the top element. A stack may be implemented to have a bounded capacity. If the stack is full and does not contain enough space to accept an entity to be pushed, the stack is then considered to be in an overflow state. The pop operation removes an item from the top of the stack.\n",
    "\n",
    "A stack is needed to implement depth-first search."
   ]
  },
  {
   "cell_type": "markdown",
   "metadata": {},
   "source": [
    "# Creating a custom Overflow Error"
   ]
  },
  {
   "cell_type": "code",
   "execution_count": 6,
   "metadata": {},
   "outputs": [],
   "source": [
    "class OverflowError(Exception):\n",
    "    \"\"\"Exception raised for exceeding Container Size\n",
    "    \n",
    "    Attributes:\n",
    "        maxsize (int): non-negative integer representing maximum size of container\n",
    "        message (str): explanation of the error\n",
    "    \"\"\"\n",
    "\n",
    "    def __init__(self, maxsize: int, message='object at max size allocation') -> None:\n",
    "        self.maxsize = maxsize\n",
    "        self.message = message\n",
    "        super().__init__(self.message)\n",
    "\n",
    "    def __str__(self):\n",
    "        return f'{self.message} ({self.maxsize})'\n",
    "    "
   ]
  },
  {
   "cell_type": "code",
   "execution_count": 7,
   "metadata": {},
   "outputs": [
    {
     "ename": "OverflowError",
     "evalue": "object at max size allocation (3)",
     "output_type": "error",
     "traceback": [
      "\u001b[0;31m---------------------------------------------------------------------------\u001b[0m",
      "\u001b[0;31mOverflowError\u001b[0m                             Traceback (most recent call last)",
      "\u001b[1;32m/Users/vivekjha/Dropbox/tech/concepts/datastructures/ds00_stack.ipynb Cell 5\u001b[0m in \u001b[0;36m<cell line: 3>\u001b[0;34m()\u001b[0m\n\u001b[1;32m      <a href='vscode-notebook-cell:/Users/vivekjha/Dropbox/tech/concepts/datastructures/ds00_stack.ipynb#X14sZmlsZQ%3D%3D?line=0'>1</a>\u001b[0m \u001b[39m# Testing Custom Error\u001b[39;00m\n\u001b[1;32m      <a href='vscode-notebook-cell:/Users/vivekjha/Dropbox/tech/concepts/datastructures/ds00_stack.ipynb#X14sZmlsZQ%3D%3D?line=1'>2</a>\u001b[0m \u001b[39mif\u001b[39;00m \u001b[39mTrue\u001b[39;00m:\n\u001b[0;32m----> <a href='vscode-notebook-cell:/Users/vivekjha/Dropbox/tech/concepts/datastructures/ds00_stack.ipynb#X14sZmlsZQ%3D%3D?line=2'>3</a>\u001b[0m     \u001b[39mraise\u001b[39;00m \u001b[39mOverflowError\u001b[39;00m(\u001b[39m3\u001b[39m)\n",
      "\u001b[0;31mOverflowError\u001b[0m: object at max size allocation (3)"
     ]
    }
   ],
   "source": [
    "# Testing Custom Error\n",
    "if True:\n",
    "    raise OverflowError(3)"
   ]
  },
  {
   "cell_type": "markdown",
   "metadata": {},
   "source": [
    "# Implementing a Stack using a List"
   ]
  },
  {
   "cell_type": "code",
   "execution_count": 26,
   "metadata": {},
   "outputs": [],
   "source": [
    "class Stack:\n",
    "    def __init__(self, *items: tuple, size=10) -> None:\n",
    "        self.maxsize = size\n",
    "        if len(items) <= self.maxsize:\n",
    "            self.items = list(items)\n",
    "            self._top = len(self.items) - 1\n",
    "            self.items.extend(None for _ in range(self.maxsize - len(items)))\n",
    "        else:\n",
    "            raise OverflowError\n",
    "\n",
    "    def __len__(self) -> int:\n",
    "        return self._top + 1\n",
    "\n",
    "    def __repr__(self) -> str:\n",
    "        elements = [str(item) for item in self.items]\n",
    "        return f'{type(self).__name__}({\", \".join(elements)})'\n",
    "\n",
    "    def is_empty(self) -> bool:\n",
    "        return self._top == -1\n",
    "\n",
    "    def peek(self) -> object:\n",
    "        try:\n",
    "            return self.items[self._top]\n",
    "        except IndexError:\n",
    "            return\n",
    "        \n",
    "    def push(self, value) -> None:\n",
    "        if self._top == self.maxsize:\n",
    "            raise OverflowError\n",
    "        else:\n",
    "            self._top += 1\n",
    "            self.items[self._top] = value\n",
    "\n",
    "    def pop(self) -> object:\n",
    "        if self.is_empty():\n",
    "            print('Oops, cannot pop an empty stack')\n",
    "        else:\n",
    "            top_value = self.peek()\n",
    "            self.items[self._top] = None\n",
    "            self._top -= 1\n",
    "            return top_value\n"
   ]
  },
  {
   "cell_type": "markdown",
   "metadata": {},
   "source": [
    "#### Let's create a Stack and test out it's methods "
   ]
  },
  {
   "cell_type": "code",
   "execution_count": 29,
   "metadata": {},
   "outputs": [
    {
     "name": "stdout",
     "output_type": "stream",
     "text": [
      "Stack(3, None, None, None, None, None, None, None, None, None)\n",
      "Stack(3, hello, None, None, None, None, None, None, None, None)\n",
      "Stack(3, hello, True, None, None, None, None, None, None, None)\n",
      "True\n",
      "Stack(3, hello, None, None, None, None, None, None, None, None)\n",
      "Stack(None, None, None, None, None, None, None, None, None, None)\n"
     ]
    }
   ],
   "source": [
    "s = Stack(3)\n",
    "assert not s.is_empty()\n",
    "assert s.maxsize == 10\n",
    "print(s)\n",
    "s.push('hello')\n",
    "print(s)\n",
    "s.push(True)\n",
    "print(s)\n",
    "print(s.pop())\n",
    "print(s)\n",
    "s.pop()\n",
    "s.pop()\n",
    "assert s.is_empty()\n",
    "print(s)"
   ]
  },
  {
   "cell_type": "code",
   "execution_count": null,
   "metadata": {},
   "outputs": [],
   "source": []
  }
 ],
 "metadata": {
  "kernelspec": {
   "display_name": "Python 3.8.13 64-bit ('anaconda3')",
   "language": "python",
   "name": "python3"
  },
  "language_info": {
   "codemirror_mode": {
    "name": "ipython",
    "version": 3
   },
   "file_extension": ".py",
   "mimetype": "text/x-python",
   "name": "python",
   "nbconvert_exporter": "python",
   "pygments_lexer": "ipython3",
   "version": "3.8.13"
  },
  "orig_nbformat": 4,
  "vscode": {
   "interpreter": {
    "hash": "00036dfcc2497e759c7ebcbd7b6dab5fedd6b776a66997d4fce41a30dd58dac7"
   }
  }
 },
 "nbformat": 4,
 "nbformat_minor": 2
}
